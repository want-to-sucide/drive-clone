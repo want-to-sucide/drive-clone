{
  "nbformat": 4,
  "nbformat_minor": 0,
  "metadata": {
    "colab": {
      "name": "clone google drive to another google drive",
      "provenance": [],
      "collapsed_sections": []
    },
    "kernelspec": {
      "name": "python3",
      "display_name": "Python 3"
    },
    "language_info": {
      "name": "python"
    }
  },
  "cells": [
    {
      "cell_type": "code",
      "metadata": {
        "id": "UKfugNQssj6d"
      },
      "source": [
        "# @title ##**The Google Drive account you want to copy (Drive1)** { display-mode: \"form\" }\n",
        "from google.colab import drive\n",
        "drive.mount('/content/drive1')\n",
        "#@markdown ##### In some case you not logged in current device so copy the authentication link and short the url using [bitly](https://bitly.com/). Then send to your phone and copy the key and paste in google colab."
      ],
      "execution_count": null,
      "outputs": []
    },
    {
      "cell_type": "code",
      "metadata": {
        "id": "sUQPogNNspm0"
      },
      "source": [
        "# @title ##**The Google Drive account that you want to keep the copied files (Drive2)** { display-mode: \"form\" }\n",
        "#@markdown ##### you need to mount drive2 two times\n",
        "\n",
        "!apt-get install -y -qq software-properties-common python-software-properties module-init-tools\n",
        "!add-apt-repository -y ppa:alessandro-strada/ppa 2>&1 > /dev/null\n",
        "!apt-get update -qq 2>&1 > /dev/null\n",
        "!apt-get -y install -qq google-drive-ocamlfuse fuse\n",
        "from google.colab import auth\n",
        "auth.authenticate_user()\n",
        "from oauth2client.client import GoogleCredentials\n",
        "creds = GoogleCredentials.get_application_default()\n",
        "import getpass\n",
        "!google-drive-ocamlfuse -headless -id={creds.client_id} -secret={creds.client_secret} < /dev/null 2>&1 | grep URL\n",
        "vcode = getpass.getpass()\n",
        "!echo {vcode} | google-drive-ocamlfuse -headless -id={creds.client_id} -secret={creds.client_secret}\n",
        "!mkdir -p /content/drive2\n",
        "!google-drive-ocamlfuse /content/drive2"
      ],
      "execution_count": null,
      "outputs": []
    },
    {
      "cell_type": "code",
      "metadata": {
        "id": "3S5t6bLLwXyM"
      },
      "source": [
        "# @title ##**Run this to copy everything to frome Drive1 to Drive2** { display-mode: \"form\" }\n",
        "\n",
        "%cd /content/drive2\n",
        "!mkdir clone_drive\n",
        "!cp -R /content/drive1/MyDrive/* /content/drive2/clone_drive/"
      ],
      "execution_count": null,
      "outputs": []
    },
    {
      "cell_type": "code",
      "metadata": {
        "id": "XYduoo8Bx_x7"
      },
      "source": [
        "# @title ##**(Warning) It will delete all copied file from drive2** { display-mode: \"form\" }\n",
        "\n",
        "!rm -rf /content/drive2/clone_drive"
      ],
      "execution_count": null,
      "outputs": []
    },
    {
      "cell_type": "code",
      "metadata": {
        "id": "aME2BC5O1eDz"
      },
      "source": [
        "# @title ##**(Warning) It will delete everything from trash in drive2** { display-mode: \"form\" }\n",
        "from pydrive.auth import GoogleAuth\n",
        "from pydrive.drive import GoogleDrive\n",
        "from google.colab import auth\n",
        "from oauth2client.client import GoogleCredentials\n",
        "\n",
        "auth.authenticate_user()\n",
        "gauth = GoogleAuth()\n",
        "gauth.credentials = GoogleCredentials.get_application_default()\n",
        "my_drive = GoogleDrive(gauth)\n",
        "\n",
        "\n",
        "\n",
        "for a_file in my_drive.ListFile({'q': \"trashed = true\"}).GetList():\n",
        "    # print the name of the file being deleted.\n",
        "    try:\n",
        "      print(f\"{a_file['title']} deleted from trash\")\n",
        "      # delete the file permanently.\n",
        "      a_file.Delete()\n",
        "    except:\n",
        "      print(f\"{a_file['title']} can't deleted from trash\")\n"
      ],
      "execution_count": null,
      "outputs": []
    }
  ]
}